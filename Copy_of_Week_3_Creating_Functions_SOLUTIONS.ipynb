{
  "nbformat": 4,
  "nbformat_minor": 0,
  "metadata": {
    "colab": {
      "provenance": [],
      "include_colab_link": true
    },
    "kernelspec": {
      "name": "python3",
      "display_name": "Python 3"
    },
    "language_info": {
      "name": "python"
    }
  },
  "cells": [
    {
      "cell_type": "markdown",
      "metadata": {
        "id": "view-in-github",
        "colab_type": "text"
      },
      "source": [
        "<a href=\"https://colab.research.google.com/github/Shuyang19/physics/blob/main/Copy_of_Week_3_Creating_Functions_SOLUTIONS.ipynb\" target=\"_parent\"><img src=\"https://colab.research.google.com/assets/colab-badge.svg\" alt=\"Open In Colab\"/></a>"
      ]
    },
    {
      "cell_type": "markdown",
      "metadata": {
        "id": "3hfYEwRBJv28"
      },
      "source": [
        "#Week 3: Creating Functions\n",
        "Welcome to our third python for physics session! Last week, we worked on familiarizing ourselves with some of the core structures of the language. Today, we'll use a very common and useful package called numpy. We'll also learn how to create and use functions to help us with geometric optics!\n",
        "\n"
      ]
    },
    {
      "cell_type": "markdown",
      "metadata": {
        "id": "h7UzatTdKwFq"
      },
      "source": [
        "**Step 1: Importing Toolboxes**\n",
        "\n",
        "We'll be using numpy this exercise. Feel free to explore its documentation [here](https://numpy.org/). "
      ]
    },
    {
      "cell_type": "code",
      "metadata": {
        "id": "5hu8J4GPK1YX"
      },
      "source": [
        "import numpy as np\n"
      ],
      "execution_count": null,
      "outputs": []
    },
    {
      "cell_type": "markdown",
      "metadata": {
        "id": "hyN6BCM0KyM7"
      },
      "source": [
        "**Step 2: Create A Function**\n",
        "\n",
        "A function is a block of code which only runs when it is called. You can pass data, known as parameters, into the function, and it can return data as a result. \n",
        "\n",
        "In Python a function is defined using the def keyword:\n"
      ]
    },
    {
      "cell_type": "code",
      "metadata": {
        "id": "elHi09grK1rq"
      },
      "source": [
        "def my_function():\n",
        "  print(\"Hello from a function\")"
      ],
      "execution_count": null,
      "outputs": []
    },
    {
      "cell_type": "markdown",
      "metadata": {
        "id": "eB9kWLfCy-Cu"
      },
      "source": [
        "Try calling this function! Does it do what you expect?"
      ]
    },
    {
      "cell_type": "code",
      "metadata": {
        "colab": {
          "base_uri": "https://localhost:8080/"
        },
        "id": "Msd4Qc5Vy92u",
        "outputId": "725df91f-e70f-49fa-fe12-29549188a279"
      },
      "source": [
        "my_function()"
      ],
      "execution_count": null,
      "outputs": [
        {
          "output_type": "stream",
          "name": "stdout",
          "text": [
            "Hello from a function\n"
          ]
        }
      ]
    },
    {
      "cell_type": "markdown",
      "metadata": {
        "id": "XnFbOl0-Krkc"
      },
      "source": [
        "**Step 3: Passing Arguments**\n",
        "\n",
        "The function we made before doesn't take anything as an input. Let's create a function that takes a number as an input and returns the log of it.\n",
        "\n",
        "How do we take the log? That's when our numpy package comes in handy! To use anything from the numpy package, type `np.[function_name]`. For example, if we want to take the natural log of a number, we can use `np.log(a_number)`. There's lots of other useful functions and data structures in numpy!\n"
      ]
    },
    {
      "cell_type": "code",
      "metadata": {
        "id": "B5SpSnBIJq2E",
        "colab": {
          "base_uri": "https://localhost:8080/"
        },
        "outputId": "25f739a8-d313-4469-f06b-4acb61cbef2a"
      },
      "source": [
        "def log(a):\n",
        "  return np.log(a)\n",
        "\n",
        "\n",
        "log(57)"
      ],
      "execution_count": null,
      "outputs": [
        {
          "output_type": "execute_result",
          "data": {
            "text/plain": [
              "4.04305126783455"
            ]
          },
          "metadata": {},
          "execution_count": 7
        }
      ]
    },
    {
      "cell_type": "markdown",
      "metadata": {
        "id": "HX1Uilk80XPA"
      },
      "source": [
        "Test out your function with a few different numbers. Does it work? Try testing it out in combination with the `np.exp` function and see what you get! What base is `np.exp` in?"
      ]
    },
    {
      "cell_type": "code",
      "metadata": {
        "colab": {
          "base_uri": "https://localhost:8080/"
        },
        "id": "yL9YcLTuzLCB",
        "outputId": "906138af-8866-4802-d3fc-ef7c39a74ad8"
      },
      "source": [
        "log(np.exp(1))"
      ],
      "execution_count": null,
      "outputs": [
        {
          "output_type": "execute_result",
          "data": {
            "text/plain": [
              "1.0"
            ]
          },
          "metadata": {},
          "execution_count": 11
        }
      ]
    },
    {
      "cell_type": "markdown",
      "metadata": {
        "id": "w9RBDfzJ0bU5"
      },
      "source": [
        "By default, a function must be called with the correct number of arguments. Meaning that if your function expects 2 arguments, you have to call the function with 2 arguments, not more, and not less.\n",
        "\n",
        "Write a function that adds two numbers from your input!"
      ]
    },
    {
      "cell_type": "code",
      "metadata": {
        "colab": {
          "base_uri": "https://localhost:8080/"
        },
        "id": "q7nR0iw-0pWd",
        "outputId": "4cc90b0f-c884-4299-b2eb-a98b5b2099ee"
      },
      "source": [
        "def add(a, b):\n",
        "  return a + b\n",
        "\n",
        "\n",
        "add(5,7)"
      ],
      "execution_count": null,
      "outputs": [
        {
          "output_type": "execute_result",
          "data": {
            "text/plain": [
              "12"
            ]
          },
          "metadata": {},
          "execution_count": 10
        }
      ]
    },
    {
      "cell_type": "markdown",
      "metadata": {
        "id": "6siyLukf0p5o"
      },
      "source": [
        "If you do not know how many arguments that will be passed into your function, add a * before the parameter name in the function definition.\n",
        "\n",
        "This way the function will receive a tuple of arguments, and can access the items accordingly. \n",
        "\n",
        "Write a function that adds as many numbers as you want numbers from your input! \n",
        "\n",
        "*Hint: using a for loop may be useful here. If you don't remember how to make those, take a look at Week 1 and Week 2 material.*"
      ]
    },
    {
      "cell_type": "code",
      "metadata": {
        "colab": {
          "base_uri": "https://localhost:8080/"
        },
        "id": "eyNv85Ib0qyV",
        "outputId": "f48a51dc-f945-4ae0-ceed-9bcf192f6e89"
      },
      "source": [
        "def add_more(*nums):\n",
        "  sum = 0\n",
        "  for n in nums:\n",
        "    sum = sum + n\n",
        "  return sum\n",
        "\n",
        "add_more(1,2,3,4)"
      ],
      "execution_count": null,
      "outputs": [
        {
          "output_type": "execute_result",
          "data": {
            "text/plain": [
              "10"
            ]
          },
          "metadata": {},
          "execution_count": 12
        }
      ]
    },
    {
      "cell_type": "markdown",
      "metadata": {
        "id": "IpdWC28UzOeu"
      },
      "source": [
        "**Step 4: Creating Your Own Functions**\n",
        "\n",
        "Now that we have some practice making basic functions, let's make some functions that could be useful geometric optics.\n",
        "\n",
        "First, create a function that returns image distance given the focal length and the original distance."
      ]
    },
    {
      "cell_type": "code",
      "metadata": {
        "id": "_TKRrIoq17Rj"
      },
      "source": [
        "def image_distance(f, do):\n",
        "  return 1/((1/f)-(1/do))"
      ],
      "execution_count": null,
      "outputs": []
    },
    {
      "cell_type": "markdown",
      "metadata": {
        "id": "BsMSOcEsfvdi"
      },
      "source": [
        "Now, test this function out!  Determine the image distance and image height for a 5-cm tall object placed 45.0 cm from a double convex lens having a focal length of 15.0 cm.\n",
        "\n",
        "Answer: di = 22.5 cm, hi = -2.5 cm"
      ]
    },
    {
      "cell_type": "code",
      "metadata": {
        "id": "iRgoJkFhy04z",
        "colab": {
          "base_uri": "https://localhost:8080/"
        },
        "outputId": "bcc7dc22-07f0-4a9f-899f-044a5924f8ae"
      },
      "source": [
        "# define a function that takes in object height, object distance, image distance and outputs image height\n",
        "def image_height(ho,do,di):\n",
        "  return -di/do*ho\n",
        "\n",
        "di = image_distance(15,45)\n",
        "\n",
        "print(f'di = {di} cm')\n",
        "print(f'hi = {image_height(5,45,di)} cm')"
      ],
      "execution_count": null,
      "outputs": [
        {
          "output_type": "stream",
          "name": "stdout",
          "text": [
            "di = 22.500000000000004 cm\n",
            "hi = -2.5000000000000004 cm\n"
          ]
        }
      ]
    },
    {
      "cell_type": "markdown",
      "metadata": {
        "id": "8Am7ODmF2QS2"
      },
      "source": [
        "How would you deal with an image going through multiple lenses using the function you have already created?\n",
        "\n",
        "Two converging lenses are placed 90 cm apart. The 30 cm\n",
        "focal length lens is to the left of the 15 cm focal length lens. A 15 cm\n",
        "tall arrow is placed 90 cm to the left of the 30 cm focal length lens.\n",
        "Where does the final image appear, and how tall is it?\n",
        "\n",
        "Answer: We conclude that the overall final image is oriented the same way as the original object, is 3.75 cm tall, and is a real image located 202.5 cm from the original object."
      ]
    },
    {
      "cell_type": "code",
      "metadata": {
        "id": "btrb0zvs2SNN",
        "colab": {
          "base_uri": "https://localhost:8080/"
        },
        "outputId": "5d63b5b9-d340-40b4-e0e5-4bed0c6b4217"
      },
      "source": [
        "# first, we can define all our known values\n",
        "f1 = 30\n",
        "f2 = 15\n",
        "do1 = 90\n",
        "dlens = 90\n",
        "ho1 = 15\n",
        "\n",
        "# then, we run our image_distance function for each lens\n",
        "di1 = image_distance(f1,do1)\n",
        "do2 = dlens - di1\n",
        "di2 = image_distance(f2,do2)\n",
        "di2 = round(di2,2)    # round(number, ndigits) helps limit the number of decimal places\n",
        "print(f'The final image appears {di2} cm to the right of the 15 cm focal length lens, which is {di2 + 90 + 90} to the right of the object.')\n",
        "# the f before our string lets us input a variable using {}. This is more convenient than doing   print('... appears' + di2 + 'cm ......')\n",
        "\n",
        "# lastly, we run our image_height function for each lens\n",
        "hi1 = image_height(ho1,do1,di1)\n",
        "ho2 = hi1\n",
        "hi2 = image_height(ho2,do2,di2)\n",
        "hi2 = round(hi2,2)\n",
        "print(f'The final image is {hi2} cm tall.')"
      ],
      "execution_count": null,
      "outputs": [
        {
          "output_type": "stream",
          "name": "stdout",
          "text": [
            "The final image appears 22.5 cm to the right of the 15 cm focal length lens, which is 202.5 to the right of the object.\n",
            "The final image is 3.75 cm tall.\n"
          ]
        }
      ]
    },
    {
      "cell_type": "markdown",
      "metadata": {
        "id": "MerL-LuQmif2"
      },
      "source": [
        "**Sources**\n",
        "\n",
        "*   https://www.w3schools.com/python/python_functions.asp\n",
        "*   https://www.physicsclassroom.com/class/refrn/Lesson-5/\n",
        "*   http://www.physics.pomona.edu/sixideas/old/optics/gopt4.pdf\n"
      ]
    }
  ]
}