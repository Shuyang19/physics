{
  "nbformat": 4,
  "nbformat_minor": 0,
  "metadata": {
    "colab": {
      "provenance": [],
      "include_colab_link": true
    },
    "kernelspec": {
      "name": "python3",
      "display_name": "Python 3"
    },
    "language_info": {
      "name": "python"
    }
  },
  "cells": [
    {
      "cell_type": "markdown",
      "metadata": {
        "id": "view-in-github",
        "colab_type": "text"
      },
      "source": [
        "<a href=\"https://colab.research.google.com/github/Shuyang19/physics/blob/main/Week_2_Building_Intuition.ipynb\" target=\"_parent\"><img src=\"https://colab.research.google.com/assets/colab-badge.svg\" alt=\"Open In Colab\"/></a>"
      ]
    },
    {
      "cell_type": "markdown",
      "source": [
        "#Week 2: Building Intuition\n",
        "Being able to plot the same data in numerous ways can help you draw new conclusions or think about it differently. \n",
        "\n",
        "In this session, you will build your intuition by plotting energy level diagrams for the hydrogen atom in different ways. "
      ],
      "metadata": {
        "id": "la575mxPi-Un"
      }
    },
    {
      "cell_type": "markdown",
      "source": [
        "**Step 1: Importing Toolboxes**\n",
        "\n",
        "We'll be using numpy and matplotlib for this exercise. If you need review on numpy or matplotlib, please refer to the Physics 4D exercises involving them."
      ],
      "metadata": {
        "id": "dl9bwH6Fjlow"
      }
    },
    {
      "cell_type": "code",
      "execution_count": null,
      "metadata": {
        "id": "v0UEd1aiiPLo"
      },
      "outputs": [],
      "source": [
        "import numpy as np\n",
        "import matplotlib.pyplot as plt\n",
        "from scipy import optimize"
      ]
    },
    {
      "cell_type": "markdown",
      "source": [
        "**Step 2: Physics Background**\n",
        "\n",
        "As you learned in class, n represents the principle quantum number and only takes integral values from 1 to infinity.\n",
        "\n",
        "\n",
        "The ground state refers to the lowest energy level n=1 in which the atom is the most stable. The electron normally occupies this level unless given sufficient energy to move up to a higher level. An atom is said to be in an excited state when its electrons are found in the higher energy levels. When an atom is excited from the ground state to a higher energy, it becomes unstable and falls back to one of the lower energy levels by emitting photon(s)/electromagnetic radiation\n",
        "\n",
        "The highest energy level n = ∞ corresponds to an energy state where the electron is no longer bound to the atom (the electron has escaped from the atom.) By convention, it is usually assigned an energy value of 0 eV.\n",
        "\n",
        "The lower the energy level, the more negative the energy value associated with that level. Thus, the lower energy states correspond to more stable states.\n",
        "\n",
        "Look back in your notes and find the equation for the energy of the hydrogen atom based on n and plot it. \n",
        "\n",
        "\n",
        "$$E_n = \\frac{-13.6eV}{n^2}$$\n",
        "\n",
        "\n",
        "Should you plot it with a line or with points? Why?\n",
        "Label your axes, the plot, and plot from n = 0 to n = 50."
      ],
      "metadata": {
        "id": "4N3KBpl5jo6S"
      }
    },
    {
      "cell_type": "code",
      "source": [
        "#YOUR CODE HERE\n",
        "n = np.arange(0, 50)\n",
        "E = -13.6/n**2\n",
        "plt.scatter(n, E)\n",
        "plt.xlabel(\"Principle quantum number (n)\")\n",
        "plt.ylabel(\"Energy (eV)\")\n",
        "plt.title(\"Energy levels\")\n",
        "plt.show()"
      ],
      "metadata": {
        "id": "_OptlDcGjtzl",
        "colab": {
          "base_uri": "https://localhost:8080/",
          "height": 526
        },
        "outputId": "10ac72db-a67d-4d67-a65e-48384e8c5bba"
      },
      "execution_count": null,
      "outputs": [
        {
          "output_type": "stream",
          "name": "stderr",
          "text": [
            "<ipython-input-5-2558570998c2>:3: RuntimeWarning: divide by zero encountered in true_divide\n",
            "  E = -13.6/n**2\n"
          ]
        },
        {
          "output_type": "execute_result",
          "data": {
            "text/plain": [
              "Text(0.5, 1.0, 'Energy levels')"
            ]
          },
          "metadata": {},
          "execution_count": 5
        },
        {
          "output_type": "display_data",
          "data": {
            "text/plain": [
              "<Figure size 640x480 with 1 Axes>"
            ],
            "image/png": "[encoded data removed]"
          },
          "metadata": {}
        }
      ]
    },
    {
      "cell_type": "markdown",
      "source": [
        "Why do we have to use points to plot the energy levels? Are these energies continuous or discrete? Why?"
      ],
      "metadata": {
        "id": "rzR9gmIjkfCp"
      }
    },
    {
      "cell_type": "markdown",
      "source": [
        "**Step 3: Energy Increments**\n",
        "\n",
        "Looking at the previous graph, how do the spacings between the points on the y axis change as you increase n? Does it increase or decrease? To get a better visual, let's plot a typical energy level diagram with horizontal lines. \n",
        "\n",
        "Hint: use a for loop and plot from n = 1 to n = 11"
      ],
      "metadata": {
        "id": "qVHpgxTikhEk"
      }
    },
    {
      "cell_type": "code",
      "source": [
        "ns = np.linspace(1,11, 10)\n",
        "\n",
        "#YOUR CODE HERE\n",
        "for n in ns:\n",
        "  plt.axhline(y=-13.6/n**2)\n",
        "\n",
        "plt.ylabel(\"Energy (eV)\")\n",
        "plt.title(\"Energy level Diagram\")\n",
        "plt.show()"
      ],
      "metadata": {
        "id": "dXbUkUylkn2e",
        "colab": {
          "base_uri": "https://localhost:8080/",
          "height": 452
        },
        "outputId": "0d4a6c03-2035-4f49-8213-e6f8f1ad38c1"
      },
      "execution_count": null,
      "outputs": [
        {
          "output_type": "display_data",
          "data": {
            "text/plain": [
              "<Figure size 640x480 with 1 Axes>"
            ],
            "image/png": "[encoded data removed]"
          },
          "metadata": {}
        }
      ]
    },
    {
      "cell_type": "markdown",
      "source": [
        "Another way we can visualize the difference is by taking the derivative. "
      ],
      "metadata": {
        "id": "DaUbn34WkoXp"
      }
    },
    {
      "cell_type": "code",
      "source": [
        "from scipy.misc import derivative\n",
        "\n",
        "#YOUR CODE HERE\n"
      ],
      "metadata": {
        "id": "Jx10NpIOksTH"
      },
      "execution_count": null,
      "outputs": []
    },
    {
      "cell_type": "markdown",
      "source": [
        "How does the derivative contains the information about the spacing of levels?"
      ],
      "metadata": {
        "id": "6wfBuOmGksk1"
      }
    },
    {
      "cell_type": "markdown",
      "source": [
        "**Connecting to Correspondance Principle**\n",
        "\n",
        "How does this connect to the correspondance principle? In other wrods, the correspondence principle states that the behavior of systems described by the theory of quantum mechanics reproduces classical physics in the limit of large quantum numbers. How is this demonstrated in these graphs?"
      ],
      "metadata": {
        "id": "2LZzgpGwk0gv"
      }
    },
    {
      "cell_type": "markdown",
      "source": [
        "Sources:\n",
        "*   https://www.miniphysics.com/energy-level-diagram-for-hydrogen.html\n"
      ],
      "metadata": {
        "id": "c5p81XI7k5Ui"
      }
    },
    {
      "cell_type": "markdown",
      "source": [],
      "metadata": {
        "id": "OTqrpanBmWMi"
      }
    }
  ]
}