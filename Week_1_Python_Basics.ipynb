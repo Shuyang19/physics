{
  "nbformat": 4,
  "nbformat_minor": 0,
  "metadata": {
    "colab": {
      "provenance": [],
      "include_colab_link": true
    },
    "kernelspec": {
      "name": "python3",
      "display_name": "Python 3"
    },
    "language_info": {
      "name": "python"
    }
  },
  "cells": [
    {
      "cell_type": "markdown",
      "metadata": {
        "id": "view-in-github",
        "colab_type": "text"
      },
      "source": [
        "<a href=\"https://colab.research.google.com/github/Shuyang19/CSE-30-reading/blob/main/Week_1_Python_Basics.ipynb\" target=\"_parent\"><img src=\"https://colab.research.google.com/assets/colab-badge.svg\" alt=\"Open In Colab\"/></a>"
      ]
    },
    {
      "cell_type": "markdown",
      "metadata": {
        "id": "QVAsiyG5tcWg"
      },
      "source": [
        "#Week 1: Python Basics\n",
        "Welcome to our first python for physics session! Over the next ten weeks we'll be familiarizing ourselves with python and how we can use it to help us with physics. We won't be able to learn all of the tools available in python, but we will learn the fundamentals. \n",
        "\n",
        "We will start by learning  about the core structure of the language first, how to put together the instructions that make up a program. Later on, we will learn about some of the powerful features that can make the life of a physicist easier. \n",
        "\n",
        "In general, a good place to start when looking for information about Python is the official Python website at www.python.org. \n",
        "\n",
        "Today we'll be covering a few of the basics starting with:\n",
        "\n",
        "*  Strings\n",
        "*  Numbers\n",
        "*  Dictionaries\n",
        "*  Loops\n"
      ]
    },
    {
      "cell_type": "markdown",
      "metadata": {
        "id": "6sdGSex2g47h"
      },
      "source": [
        "**Step 1: Strings**\n",
        "\n",
        "A string in Python is a sequence of characters. In other words, a string is a piece of text. Strings are a well-known term in the field of computer science and means the same thing in most other languages as well. How do we create a python string?\n",
        "\n",
        "A Python string needs quotes around it for it to be recognized as such, like this:"
      ]
    },
    {
      "cell_type": "code",
      "metadata": {
        "id": "aE9BjTbiGokG",
        "colab": {
          "base_uri": "https://localhost:8080/",
          "height": 35
        },
        "outputId": "e997ee6f-09cb-42e5-8d61-ae714164b4c6"
      },
      "source": [
        "'Hello, World'"
      ],
      "execution_count": null,
      "outputs": [
        {
          "output_type": "execute_result",
          "data": {
            "text/plain": [
              "'Hello, World'"
            ],
            "application/vnd.google.colaboratory.intrinsic+json": {
              "type": "string"
            }
          },
          "metadata": {},
          "execution_count": 1
        }
      ]
    },
    {
      "cell_type": "markdown",
      "metadata": {
        "id": "srGYry-u0sAK"
      },
      "source": [
        "*Hint: To run a block of code, press command enter*\n",
        "\n",
        "Because of the quotes, Python understands this is a sequence of characters and not a command, number, or variable.\n",
        "\n",
        "And just like with numbers, some of the operators we learned before work on Python strings too. Try it with the following expressions:\n"
      ]
    },
    {
      "cell_type": "code",
      "metadata": {
        "colab": {
          "base_uri": "https://localhost:8080/",
          "height": 35
        },
        "id": "X8TLoE4P1CdH",
        "outputId": "b1cd8d6c-40ef-40c0-cb37-c90661c3f76d"
      },
      "source": [
        "'a' + 'b'"
      ],
      "execution_count": null,
      "outputs": [
        {
          "output_type": "execute_result",
          "data": {
            "text/plain": [
              "'ab'"
            ],
            "application/vnd.google.colaboratory.intrinsic+json": {
              "type": "string"
            }
          },
          "metadata": {},
          "execution_count": 2
        }
      ]
    },
    {
      "cell_type": "code",
      "metadata": {
        "colab": {
          "base_uri": "https://localhost:8080/",
          "height": 35
        },
        "id": "wYbOUD9P1ECZ",
        "outputId": "7f4a22b5-bb4d-47a8-9319-3b5f3250813b"
      },
      "source": [
        "'ab' * 4"
      ],
      "execution_count": null,
      "outputs": [
        {
          "output_type": "execute_result",
          "data": {
            "text/plain": [
              "'abababab'"
            ],
            "application/vnd.google.colaboratory.intrinsic+json": {
              "type": "string"
            }
          },
          "metadata": {},
          "execution_count": 3
        }
      ]
    },
    {
      "cell_type": "code",
      "metadata": {
        "colab": {
          "base_uri": "https://localhost:8080/",
          "height": 166
        },
        "id": "xTxiYsvT1Dyy",
        "outputId": "0ada7367-342c-4667-8bf3-0ae9bafae07a"
      },
      "source": [
        "'a' - 'b'"
      ],
      "execution_count": null,
      "outputs": [
        {
          "output_type": "error",
          "ename": "TypeError",
          "evalue": "ignored",
          "traceback": [
            "\u001b[0;31m---------------------------------------------------------------------------\u001b[0m",
            "\u001b[0;31mTypeError\u001b[0m                                 Traceback (most recent call last)",
            "\u001b[0;32m<ipython-input-4-14bc680e620c>\u001b[0m in \u001b[0;36m<module>\u001b[0;34m\u001b[0m\n\u001b[0;32m----> 1\u001b[0;31m \u001b[0;34m'a'\u001b[0m \u001b[0;34m-\u001b[0m \u001b[0;34m'b'\u001b[0m\u001b[0;34m\u001b[0m\u001b[0;34m\u001b[0m\u001b[0m\n\u001b[0m",
            "\u001b[0;31mTypeError\u001b[0m: unsupported operand type(s) for -: 'str' and 'str'"
          ]
        }
      ]
    },
    {
      "cell_type": "markdown",
      "metadata": {
        "id": "5PfssbPX1WLW"
      },
      "source": [
        "Did you get an error?\n",
        "The plus operator glues two Python strings together.\n",
        "The multiplication operator repeats our Python string the given number of times.\n",
        "The minus operator doesn’t work on a Python string and produces an error.\n",
        "\n",
        "We’ve used single quotes, but Python accepts double-quotes around a string as well.\n",
        "\n",
        "Python also has a nice syntax for creating multiline strings, using triple quotes:"
      ]
    },
    {
      "cell_type": "code",
      "metadata": {
        "id": "SnBV3Kld1xNc"
      },
      "source": [
        "my_big_string = \"\"\"This is line 1,\n",
        "... this is line 2,\n",
        "... this is line 3.\"\"\""
      ],
      "execution_count": null,
      "outputs": []
    },
    {
      "cell_type": "markdown",
      "metadata": {
        "id": "2v-q3RbY1vuB"
      },
      "source": [
        "The nice thing about this, is that you can use both single and double quotes without a multiline string. \n",
        "\n",
        "There are lots of operations you can do with strings. Here's an example of a few.\n"
      ]
    },
    {
      "cell_type": "code",
      "metadata": {
        "id": "upLf1zFf1-vn",
        "colab": {
          "base_uri": "https://localhost:8080/"
        },
        "outputId": "194708a8-749b-4b28-d8ee-70f60070c7a2"
      },
      "source": [
        "mystring = \"I love physics\"\n",
        "print(mystring)\n",
        "print(mystring.lower())\n",
        "print(mystring.upper())"
      ],
      "execution_count": null,
      "outputs": [
        {
          "output_type": "stream",
          "name": "stdout",
          "text": [
            "I love physics\n",
            "i love physics\n",
            "I LOVE PHYSICS\n"
          ]
        }
      ]
    },
    {
      "cell_type": "markdown",
      "metadata": {
        "id": "hJUPHlXL19eH"
      },
      "source": [
        "A very common operation is to get the string length. Unlike the operations above, this can be done with Python’s len() function like this:"
      ]
    },
    {
      "cell_type": "code",
      "metadata": {
        "id": "gfxH-AQr2ZDe",
        "colab": {
          "base_uri": "https://localhost:8080/"
        },
        "outputId": "971b3bbc-4a7b-4708-a720-4a28cf442b94"
      },
      "source": [
        "len(\"I wonder how long this string will be...\")"
      ],
      "execution_count": null,
      "outputs": [
        {
          "output_type": "execute_result",
          "data": {
            "text/plain": [
              "40"
            ]
          },
          "metadata": {},
          "execution_count": 7
        }
      ]
    },
    {
      "cell_type": "code",
      "metadata": {
        "id": "DyVm--H72lnY",
        "colab": {
          "base_uri": "https://localhost:8080/"
        },
        "outputId": "d95234b5-278a-41cc-8dde-3ccfbb6158ac"
      },
      "source": [
        "len(mystring)"
      ],
      "execution_count": null,
      "outputs": [
        {
          "output_type": "execute_result",
          "data": {
            "text/plain": [
              "14"
            ]
          },
          "metadata": {},
          "execution_count": 8
        }
      ]
    },
    {
      "cell_type": "markdown",
      "metadata": {
        "id": "LrAQtfG0hm5V"
      },
      "source": [
        "**Step 2: Numbers**\n",
        "\n",
        "The python integer is a non-fractional number, like 1, 2, 45, -1, -2, and -100. It’s one of the three types of numbers python supports natively, the other being floating point numbers and complex numbers.\n",
        "\n",
        "\n",
        "You learned how to make a string alredady. To convert a string to integer in Python, use the int() function. Try making a string and then converting it to an integer!\n"
      ]
    },
    {
      "cell_type": "code",
      "metadata": {
        "id": "Yd2zMvYqhwwq",
        "colab": {
          "base_uri": "https://localhost:8080/"
        },
        "outputId": "017c91aa-2bb0-4675-f839-a0dc7b5d9dce"
      },
      "source": [
        "int('100')"
      ],
      "execution_count": null,
      "outputs": [
        {
          "output_type": "execute_result",
          "data": {
            "text/plain": [
              "100"
            ]
          },
          "metadata": {},
          "execution_count": 9
        }
      ]
    },
    {
      "cell_type": "markdown",
      "metadata": {
        "id": "afK4tJrU3Pw4"
      },
      "source": [
        "You can also do the opposite. To convert an integer to string in Python, use the str() function.\n"
      ]
    },
    {
      "cell_type": "code",
      "metadata": {
        "id": "OrMcoFx-3bFg",
        "colab": {
          "base_uri": "https://localhost:8080/",
          "height": 35
        },
        "outputId": "616b0458-68b9-46bb-f075-b42cbf91d6a0"
      },
      "source": [
        "str(200)"
      ],
      "execution_count": null,
      "outputs": [
        {
          "output_type": "execute_result",
          "data": {
            "application/vnd.google.colaboratory.intrinsic+json": {
              "type": "string"
            },
            "text/plain": [
              "'200'"
            ]
          },
          "metadata": {},
          "execution_count": 10
        }
      ]
    },
    {
      "cell_type": "markdown",
      "metadata": {
        "id": "OHGC2Wzr3aKs"
      },
      "source": [
        "To convert a float to an integer, use the int() function:\n"
      ]
    },
    {
      "cell_type": "code",
      "metadata": {
        "id": "yAEjc9NG3hZo",
        "colab": {
          "base_uri": "https://localhost:8080/"
        },
        "outputId": "508110f8-3456-4cde-9f0a-0451b7f61d0c"
      },
      "source": [
        "int(2.3)"
      ],
      "execution_count": null,
      "outputs": [
        {
          "output_type": "execute_result",
          "data": {
            "text/plain": [
              "2"
            ]
          },
          "metadata": {},
          "execution_count": 11
        }
      ]
    },
    {
      "cell_type": "markdown",
      "metadata": {
        "id": "_wYqCJLZ3goQ"
      },
      "source": [
        "Many use cases require a random integer. For this, you need to import the random library.\n",
        "\n",
        "Let’s get a random number:"
      ]
    },
    {
      "cell_type": "code",
      "metadata": {
        "id": "TBwQr-el32an",
        "colab": {
          "base_uri": "https://localhost:8080/"
        },
        "outputId": "a1249133-830d-422d-8281-55056775ed09"
      },
      "source": [
        "import random\n",
        "random.randint(1,10)"
      ],
      "execution_count": null,
      "outputs": [
        {
          "output_type": "execute_result",
          "data": {
            "text/plain": [
              "6"
            ]
          },
          "metadata": {},
          "execution_count": 12
        }
      ]
    },
    {
      "cell_type": "markdown",
      "metadata": {
        "id": "FItZuCBX3rLs"
      },
      "source": [
        "The above instruction returns a pseudo random number from in to 10 inclusive, which means including 1 and 10. There are other ways to do this as well!\n",
        "\n",
        "To check if a value is an integer, we can use the type() function. It will return int for integers. Here’s a simple example of how to use this in an if-statement:\n"
      ]
    },
    {
      "cell_type": "code",
      "metadata": {
        "id": "8A16ti-v3sYc",
        "colab": {
          "base_uri": "https://localhost:8080/"
        },
        "outputId": "7a91b898-2a36-4c4d-9152-bf36a020a14a"
      },
      "source": [
        "type(2)"
      ],
      "execution_count": null,
      "outputs": [
        {
          "output_type": "execute_result",
          "data": {
            "text/plain": [
              "int"
            ]
          },
          "metadata": {},
          "execution_count": 13
        }
      ]
    },
    {
      "cell_type": "code",
      "metadata": {
        "id": "vxO_pHx53tEw",
        "colab": {
          "base_uri": "https://localhost:8080/"
        },
        "outputId": "4ef0b4e2-857f-4db7-90aa-68d47de4af76"
      },
      "source": [
        "if isinstance(2, int):\n",
        "  print('An integer')"
      ],
      "execution_count": null,
      "outputs": [
        {
          "output_type": "stream",
          "name": "stdout",
          "text": [
            "An integer\n"
          ]
        }
      ]
    },
    {
      "cell_type": "markdown",
      "metadata": {
        "id": "wkDmJbMm3xuI"
      },
      "source": [
        "*Hint: Don’t use if type(2) == int. Using isinstance() is almost always the better, cleaner way and covers more use cases, like subclasses.*"
      ]
    },
    {
      "cell_type": "markdown",
      "metadata": {
        "id": "DD5wNBZ5lanr"
      },
      "source": [
        "**Step 4: Dictionaries**\n",
        "\n",
        "The Python dictionary is one of the language’s most powerful data types. They allow you to associate one or more keys to values."
      ]
    },
    {
      "cell_type": "code",
      "metadata": {
        "colab": {
          "base_uri": "https://localhost:8080/",
          "height": 35
        },
        "id": "ksA2cPfxOv5q",
        "outputId": "710401d5-cdf7-4795-d109-402f8a9cab79"
      },
      "source": [
        "phone_numbers = { 'Jack': '070-02222748','Pete': '010-2488634' }\n",
        "my_empty_dict = { }\n",
        "phone_numbers['Jack']"
      ],
      "execution_count": null,
      "outputs": [
        {
          "output_type": "execute_result",
          "data": {
            "application/vnd.google.colaboratory.intrinsic+json": {
              "type": "string"
            },
            "text/plain": [
              "'070-02222748'"
            ]
          },
          "metadata": {},
          "execution_count": 15
        }
      ]
    },
    {
      "cell_type": "markdown",
      "metadata": {
        "id": "XflyRJldPL-4"
      },
      "source": [
        "The first dictionary associates keys (names like Jack and Pete) with values (their phone numbers). The second dictionary is an empty one.\n",
        "\n",
        "Now that you’ve seen how to initialize a dictionary, let’s see how we can add and remove entries to an already existing one:"
      ]
    },
    {
      "cell_type": "code",
      "metadata": {
        "id": "hWw2zTTOPKBN",
        "colab": {
          "base_uri": "https://localhost:8080/"
        },
        "outputId": "a5411653-342b-459a-83a8-a38041210afc"
      },
      "source": [
        "phone_numbers['Eric'] = '06-10101010'\n",
        "del(phone_numbers['Jack'])\n",
        "phone_numbers"
      ],
      "execution_count": null,
      "outputs": [
        {
          "output_type": "execute_result",
          "data": {
            "text/plain": [
              "{'Eric': '06-10101010', 'Pete': '010-2488634'}"
            ]
          },
          "metadata": {},
          "execution_count": 16
        }
      ]
    },
    {
      "cell_type": "markdown",
      "metadata": {
        "id": "mZHd-FhMPTXn"
      },
      "source": [
        "You can put anything in a dictionary. You’re not limited to numbers or strings. In fact, you can put dictionaries and lists inside your dictionary and access the nested values in a very natural way:\n"
      ]
    },
    {
      "cell_type": "code",
      "metadata": {
        "colab": {
          "base_uri": "https://localhost:8080/"
        },
        "id": "vtbdmnUFPTuV",
        "outputId": "ca9380bf-f3b2-4948-cea7-e45b0a3f581b"
      },
      "source": [
        "a = { 'sub_dict': { 'b': True }, 'mylist': [100, 200, 300] }\n",
        "print(a['sub_dict']['b'])\n",
        "print(a['mylist'][0])"
      ],
      "execution_count": null,
      "outputs": [
        {
          "output_type": "stream",
          "name": "stdout",
          "text": [
            "True\n",
            "100\n"
          ]
        }
      ]
    },
    {
      "cell_type": "markdown",
      "metadata": {
        "id": "dxwsDf5UOwis"
      },
      "source": [
        "If you want, you can go pretty crazy on your dictionary keys too. The only requirement is that the key is of an immutable data type. \n",
        "\n",
        "Q: Do you know what immutable means?\n",
        "\n",
        "Mutable types like lists, dictionaries, and sets won’t work.\n",
        "\n",
        "Besides this limitation, you can use all data types as a dictionary key.\n",
        "\n",
        "For example, consider this registration of runners in a marathon:\n"
      ]
    },
    {
      "cell_type": "code",
      "metadata": {
        "id": "Kbxcp8ktlaTj",
        "colab": {
          "base_uri": "https://localhost:8080/",
          "height": 35
        },
        "outputId": "6d3329c0-4a9c-4681-ace1-053295ad2f2e"
      },
      "source": [
        "runners = { 1000: 'Jack', 1001: 'Eric', \n",
        "                1002: 'Lisa' }\n",
        "runners[1001]"
      ],
      "execution_count": null,
      "outputs": [
        {
          "output_type": "execute_result",
          "data": {
            "application/vnd.google.colaboratory.intrinsic+json": {
              "type": "string"
            },
            "text/plain": [
              "'Eric'"
            ]
          },
          "metadata": {},
          "execution_count": 19
        }
      ]
    },
    {
      "cell_type": "markdown",
      "metadata": {
        "id": "G3rlxCgMWKPV"
      },
      "source": [
        "Some built-in dictionary methods return a view object, offering a window on your dictionary’s key and values. Values in a view object chance as the content of the dictionary changes. \n",
        "\n",
        "To overwrite an entry, simply assign a new value to it. You don’t need to delete it first.\n",
        "\n",
        "Another way to retrieve a single value from a dictionary, is using the get-method. The advantage? It returns a default value, None, if the key was not found.\n",
        "\n",
        "An example:"
      ]
    },
    {
      "cell_type": "code",
      "metadata": {
        "colab": {
          "base_uri": "https://localhost:8080/"
        },
        "id": "C7XKy7pdIDnN",
        "outputId": "4c93df56-35fe-4989-e171-7af1f2c7904c"
      },
      "source": [
        "config = { 'host': 'example.org' }\n",
        "print(config.get('port', 80))\n",
        "print(config.get('schema'))\n"
      ],
      "execution_count": null,
      "outputs": [
        {
          "output_type": "stream",
          "name": "stdout",
          "text": [
            "80\n",
            "None\n"
          ]
        }
      ]
    },
    {
      "cell_type": "markdown",
      "metadata": {
        "id": "wI9UVyXeILgw"
      },
      "source": [
        "Get all the keys from a Python dictionary\n",
        "There are two easy ways to get all the keys from a dictionary:"
      ]
    },
    {
      "cell_type": "code",
      "metadata": {
        "colab": {
          "base_uri": "https://localhost:8080/"
        },
        "id": "ci2BevuxIOIA",
        "outputId": "6050afc0-7032-4ed0-fc31-61d536dbadb7"
      },
      "source": [
        "phone_numbers = { 'Jack': '070-02222748', \n",
        "                      'Pete': '010-2488634', \n",
        "                      'Eric': '06-10101010' }\n",
        "print(list(phone_numbers))\n",
        "print(sorted(phone_numbers))\n"
      ],
      "execution_count": null,
      "outputs": [
        {
          "output_type": "stream",
          "name": "stdout",
          "text": [
            "['Jack', 'Pete', 'Eric']\n",
            "['Eric', 'Jack', 'Pete']\n"
          ]
        }
      ]
    },
    {
      "cell_type": "markdown",
      "metadata": {
        "id": "hwdDcW16IR6u"
      },
      "source": [
        "list() returns all the keys in insertion order, while sorted() returns all the keys sorted alphabetically.\n",
        "\n",
        "There’s also the dict.keys() method, which returns a view object containing a list of all the dictionary keys. The advantage of this object is that it stays in sync with the dictionary. It’s perfect for looping over all the keys, but you still might opt for the list or sorted methods though, because those return a native list that you can manipulate as well."
      ]
    },
    {
      "cell_type": "markdown",
      "metadata": {
        "id": "w5elDsIBW6p3"
      },
      "source": [
        "Looping through a Python dictionary\n",
        "\n",
        "The items() method of a dictionary returns an iterable view object, offering both the keys and values, as can be seen below. You can loop through this object with a simple for-loop:"
      ]
    },
    {
      "cell_type": "code",
      "metadata": {
        "id": "zElN5zR9WuPF",
        "colab": {
          "base_uri": "https://localhost:8080/"
        },
        "outputId": "02a4780f-964c-4528-a5c1-55b8e295c296"
      },
      "source": [
        "for name, phonenr in phone_numbers.items():\n",
        "  print(name, \":\", phonenr)"
      ],
      "execution_count": null,
      "outputs": [
        {
          "output_type": "stream",
          "name": "stdout",
          "text": [
            "Jack : 070-02222748\n",
            "Pete : 010-2488634\n",
            "Eric : 06-10101010\n"
          ]
        }
      ]
    },
    {
      "cell_type": "markdown",
      "metadata": {
        "id": "PdxstCDYWgvJ"
      },
      "source": [
        "You might wonder if a dictionary with the same keys and values, but inserted in another order, are the same too. Let’s check this"
      ]
    },
    {
      "cell_type": "code",
      "metadata": {
        "id": "EzbqVB2PWb0t",
        "colab": {
          "base_uri": "https://localhost:8080/"
        },
        "outputId": "c07b0306-cf2a-4740-bf42-a44dc1508438"
      },
      "source": [
        "first_dict  = { 'a': 1, 'b': 2, 'c': 'a string' }\n",
        "second_dict  = { 'b': 2, 'a': 1, 'c': 'a string' }\n",
        "first_dict == second_dict"
      ],
      "execution_count": null,
      "outputs": [
        {
          "output_type": "execute_result",
          "data": {
            "text/plain": [
              "True"
            ]
          },
          "metadata": {},
          "execution_count": 26
        }
      ]
    },
    {
      "cell_type": "markdown",
      "metadata": {
        "id": "X3580advztHZ"
      },
      "source": [
        "**Step 5: Loops**\n",
        "\n",
        "You can change the flow of our programs with the conditional statements if and else. Another way to control the flow is by using a Python for-loop or a Python while-loop. Loops allow you to repeat a piece of code.\n",
        "\n",
        "There are two ways to create a loop in Python. Let’s first look at Python’s for-loop. A for-loop iterates over the individual elements of the object you feed it. If that sounds difficult, an example will hopefully clarify this:"
      ]
    },
    {
      "cell_type": "code",
      "metadata": {
        "id": "ZsP5T9BazxnB",
        "colab": {
          "base_uri": "https://localhost:8080/"
        },
        "outputId": "9668be77-1097-4547-c428-010ea1ac3a3d"
      },
      "source": [
        "for letter in 'Hello':\n",
        "  print(letter)"
      ],
      "execution_count": null,
      "outputs": [
        {
          "output_type": "stream",
          "name": "stdout",
          "text": [
            "H\n",
            "e\n",
            "l\n",
            "l\n",
            "o\n"
          ]
        }
      ]
    },
    {
      "cell_type": "markdown",
      "metadata": {
        "id": "Gxy5iv25P2mk"
      },
      "source": [
        "We stumbled upon two concepts here that need and explanation: iterability and objects.\n",
        "\n",
        "An iterable is an object in Python that can return its members one at a time. Everything in Python is an object, and objects have a certain type and certain properties, including being iterable.\n",
        "\n",
        "So we know that a for-loop can loop over iterable objects. By returning its members one by one, you can loop over each element of an iterable with a for-statement.\n",
        "\n",
        "The general template for a for-loop in Python is:\n",
        "\n",
        "```\n",
        "# for <variable> in <iterable>:\n",
        "    ... do something with variable\n",
        "```\n",
        "\n",
        "\n",
        "On each iteration, an element from iterable is assigned to variable. This variable exists and can be used only inside the loop. In Python, a string is iterable, and it returns one letter at a time. Hence, our for-loop prints ‘Hello,’ one letter at a time.\n",
        "\n",
        "Python for-loops and lists\n",
        "This is the ideal time to look at a new data type: lists. Lists also happen to be iterable; hence they work very well with a for-loop:"
      ]
    },
    {
      "cell_type": "code",
      "metadata": {
        "id": "7XCYs7qMP99t",
        "colab": {
          "base_uri": "https://localhost:8080/"
        },
        "outputId": "04ee3162-e5a4-4de8-ad19-cc8bb799dc7f"
      },
      "source": [
        "mylist = [1, 'a', 'Hello']\n",
        "for item in mylist:\n",
        "  print(item)"
      ],
      "execution_count": null,
      "outputs": [
        {
          "output_type": "stream",
          "name": "stdout",
          "text": [
            "1\n",
            "a\n",
            "Hello\n"
          ]
        }
      ]
    },
    {
      "cell_type": "markdown",
      "metadata": {
        "id": "tnb4MXBAP-Qc"
      },
      "source": [
        "A list can be created with block quotes. Its contents are objects of whatever type you like, separated by commas, and they don’t need to be of the same type. A list can contain all the types we’ve seen so far: numbers, strings, booleans, and even other lists. Indeed, you can create a list of lists. We can access the individual elements of a list manually too:\n"
      ]
    },
    {
      "cell_type": "code",
      "metadata": {
        "id": "Mp-Xd1ScQHDG",
        "colab": {
          "base_uri": "https://localhost:8080/"
        },
        "outputId": "e20920ae-789e-4415-c6c2-781b19afcc9c"
      },
      "source": [
        "mylist = [1, 2, 'Hello', ['a', 'b'] ]\n",
        "print(mylist[0])\n",
        "print(mylist[0] + mylist[1])\n",
        "print(mylist[2])\n",
        "print(mylist[3][0])"
      ],
      "execution_count": null,
      "outputs": [
        {
          "output_type": "stream",
          "name": "stdout",
          "text": [
            "1\n",
            "3\n",
            "Hello\n",
            "a\n"
          ]
        }
      ]
    },
    {
      "cell_type": "markdown",
      "metadata": {
        "id": "uTWMWt_XQSD4"
      },
      "source": [
        "From the last example, you can see how to access nested lists.\n",
        "\n",
        "While the for-loop in Python is a bit hard to understand, because of new concepts like iterability and objects, the while loop is actually much simpler! Its template looks like this:\n",
        "\n",
        "\n",
        "```\n",
        "# while <expression>:\n",
        "    do something\n",
        "```\n",
        "\n",
        "You should read this as: “while this expression is True, keep doing the stuff below”.\n",
        "\n",
        "Let’s take a look at an actual example:"
      ]
    },
    {
      "cell_type": "code",
      "metadata": {
        "id": "TRr6DvSEQSae"
      },
      "source": [
        "i = 1\n",
        "while i <= 4:\n",
        "  print(i)\n",
        "  i = i + 1"
      ],
      "execution_count": null,
      "outputs": []
    },
    {
      "cell_type": "markdown",
      "metadata": {
        "id": "nip1DJIFPwCV"
      },
      "source": [
        "Again, we seen an expression that follows the while statement. As long as this expression evaluates to True, the block inside of the while-loop executes repeatedly."
      ]
    },
    {
      "cell_type": "markdown",
      "metadata": {
        "id": "nDeuzGB8lbiq"
      },
      "source": [
        "Sources:\n",
        "\n",
        "http://www-personal.umich.edu/~mejn/cp/chapters/programming.pdf\n",
        "\n",
        "https://python.land/introduction-to-python"
      ]
    }
  ]
}