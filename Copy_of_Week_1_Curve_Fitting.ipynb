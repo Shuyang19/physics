{
  "nbformat": 4,
  "nbformat_minor": 0,
  "metadata": {
    "colab": {
      "provenance": [],
      "include_colab_link": true
    },
    "kernelspec": {
      "name": "python3",
      "display_name": "Python 3"
    },
    "language_info": {
      "name": "python"
    }
  },
  "cells": [
    {
      "cell_type": "markdown",
      "metadata": {
        "id": "view-in-github",
        "colab_type": "text"
      },
      "source": [
        "<a href=\"https://colab.research.google.com/github/Shuyang19/physics/blob/main/Copy_of_Week_1_Curve_Fitting.ipynb\" target=\"_parent\"><img src=\"https://colab.research.google.com/assets/colab-badge.svg\" alt=\"Open In Colab\"/></a>"
      ]
    },
    {
      "cell_type": "markdown",
      "metadata": {
        "id": "QVAsiyG5tcWg"
      },
      "source": [
        "#Week 1: Curve Fitting\n",
        "Curve fitting is a the method we use to model or represent data by assigning a curve of best fit along its entire range. This is very useful because it can capture the trends of our data, and allows us to make predictions for how our data could behave.\n",
        "\n",
        "In this session, you will learn how to use the scipy optimize curve fitting package and fit one set of data to three different curves.\n",
        "\n",
        "Throughout this exercise, there will be examples of code as well as sections of code for you to fill in. \n",
        "\n"
      ]
    },
    {
      "cell_type": "markdown",
      "metadata": {
        "id": "6sdGSex2g47h"
      },
      "source": [
        "**Step 1: Importing Toolboxes**\n",
        "\n",
        "We'll be using numpy, matplotlib, and scipy for this exercise, but there are other toolboxes available for plotting and fitting purposes. "
      ]
    },
    {
      "cell_type": "code",
      "metadata": {
        "id": "aE9BjTbiGokG"
      },
      "source": [
        "import numpy as np\n",
        "import matplotlib.pyplot as plt\n",
        "from scipy import optimize"
      ],
      "execution_count": 1,
      "outputs": []
    },
    {
      "cell_type": "markdown",
      "metadata": {
        "id": "LrAQtfG0hm5V"
      },
      "source": [
        "**Step 2: Aquiring the Data**\n",
        "\n",
        "For this example you are given the following dataset. After loading the data, we need to recast the xdata and ydata as numpy arrays. We should also plot the data to determine which curves we will try fitting.\n",
        "\n",
        "Your first coding task is to make a scatter plot that relates the xdata and ydata. "
      ]
    },
    {
      "cell_type": "code",
      "metadata": {
        "id": "Yd2zMvYqhwwq"
      },
      "source": [
        "xdata = np.arange(-10,11) \n",
        "ydata = [1.2, 4.2, 6.7, 8.3, 10.6, 11.7, 13.5, 14.5, 15.7, 16.1, 16.6, 16.0, 15.4, 14.4, 14.2, 12.7, 10.3, 8.6, 6.1, 3.9, 2.1]\n",
        "#Recast xdata and ydata into numpy arrays so we can use their features\n",
        "xdata = np.asarray(xdata)\n",
        "ydata = np.asarray(ydata)\n",
        "#Plot the data\n",
        "#YOUR CODE HERE"
      ],
      "execution_count": null,
      "outputs": []
    },
    {
      "cell_type": "markdown",
      "metadata": {
        "id": "LOiP9i_shwE8"
      },
      "source": [
        "**Step 3: Fitting the Data to Three Curves**\n",
        "\n",
        "What if we don't know what form our equation should take? We're going to test out three different curves and see which one best fits the data above. First, let's test out a Gaussian. To do this, we have to define the Gaussian function. "
      ]
    },
    {
      "cell_type": "code",
      "metadata": {
        "id": "pz_gHFXRiiGW"
      },
      "source": [
        "def Gauss(x, A, B):\n",
        "    y = A*np.exp(-1*B*x**2)\n",
        "    return y"
      ],
      "execution_count": null,
      "outputs": []
    },
    {
      "cell_type": "markdown",
      "metadata": {
        "id": "zwtmk4Oti5v8"
      },
      "source": [
        "Next, we can use the curve fitting function from the scipy optimize package. You can read more about it [here](https://docs.scipy.org/doc/scipy/reference/generated/scipy.optimize.curve_fit.html).\n",
        "\n",
        "In general, this function takes the following inputs:\n",
        "\n",
        "```\n",
        "curve_fit(function, xdata, ydata)\n",
        "```\n",
        "\n"
      ]
    },
    {
      "cell_type": "code",
      "metadata": {
        "colab": {
          "base_uri": "https://localhost:8080/"
        },
        "id": "JOAeOQYyjEq2",
        "outputId": "d1b8d22f-c573-4941-fbbe-09833c96e7ba"
      },
      "source": [
        "parameters_G, covariance_G = optimize.curve_fit(Gauss, xdata, ydata)\n",
        "\n",
        "print(parameters_G)"
      ],
      "execution_count": null,
      "outputs": [
        {
          "output_type": "stream",
          "text": [
            "[1.69342863e+01 1.57396009e-02]\n"
          ],
          "name": "stdout"
        },
        {
          "output_type": "stream",
          "text": [
            "/usr/local/lib/python3.7/dist-packages/ipykernel_launcher.py:2: RuntimeWarning: overflow encountered in exp\n",
            "  \n"
          ],
          "name": "stderr"
        }
      ]
    },
    {
      "cell_type": "markdown",
      "metadata": {
        "id": "W5KMMKwwj21j"
      },
      "source": [
        "We can now visualize the fit by plotting the data and the curve. The \"parameters_G\" outputted by the curve_fit function includes the parameters A and B that we defined in our Gaussian function."
      ]
    },
    {
      "cell_type": "code",
      "metadata": {
        "colab": {
          "base_uri": "https://localhost:8080/",
          "height": 215
        },
        "id": "zMsNG_4_j9sb",
        "outputId": "dc687369-b0b8-47ed-e854-4eaf17500dbd"
      },
      "source": [
        "fit_y = Gauss(xdata, *parameters_G)\n",
        "plt.plot(xdata, ydata, 'o', label='data')\n",
        "plt.plot(xdata, fit_y, '-', label='fit')\n",
        "plt.legend()"
      ],
      "execution_count": null,
      "outputs": [
        {
          "output_type": "error",
          "ename": "TypeError",
          "evalue": "ignored",
          "traceback": [
            "\u001b[0;31m---------------------------------------------------------------------------\u001b[0m",
            "\u001b[0;31mTypeError\u001b[0m                                 Traceback (most recent call last)",
            "\u001b[0;32m<ipython-input-5-2d1041a39841>\u001b[0m in \u001b[0;36m<module>\u001b[0;34m()\u001b[0m\n\u001b[0;32m----> 1\u001b[0;31m \u001b[0mfit_y\u001b[0m \u001b[0;34m=\u001b[0m \u001b[0mGauss\u001b[0m\u001b[0;34m(\u001b[0m\u001b[0mxdata\u001b[0m\u001b[0;34m,\u001b[0m \u001b[0mparameters_G\u001b[0m\u001b[0;34m)\u001b[0m\u001b[0;34m\u001b[0m\u001b[0;34m\u001b[0m\u001b[0m\n\u001b[0m\u001b[1;32m      2\u001b[0m \u001b[0mplt\u001b[0m\u001b[0;34m.\u001b[0m\u001b[0mplot\u001b[0m\u001b[0;34m(\u001b[0m\u001b[0mxdata\u001b[0m\u001b[0;34m,\u001b[0m \u001b[0mydata\u001b[0m\u001b[0;34m,\u001b[0m \u001b[0;34m'o'\u001b[0m\u001b[0;34m,\u001b[0m \u001b[0mlabel\u001b[0m\u001b[0;34m=\u001b[0m\u001b[0;34m'data'\u001b[0m\u001b[0;34m)\u001b[0m\u001b[0;34m\u001b[0m\u001b[0;34m\u001b[0m\u001b[0m\n\u001b[1;32m      3\u001b[0m \u001b[0mplt\u001b[0m\u001b[0;34m.\u001b[0m\u001b[0mplot\u001b[0m\u001b[0;34m(\u001b[0m\u001b[0mxdata\u001b[0m\u001b[0;34m,\u001b[0m \u001b[0mfit_y\u001b[0m\u001b[0;34m,\u001b[0m \u001b[0;34m'-'\u001b[0m\u001b[0;34m,\u001b[0m \u001b[0mlabel\u001b[0m\u001b[0;34m=\u001b[0m\u001b[0;34m'fit'\u001b[0m\u001b[0;34m)\u001b[0m\u001b[0;34m\u001b[0m\u001b[0;34m\u001b[0m\u001b[0m\n\u001b[1;32m      4\u001b[0m \u001b[0mplt\u001b[0m\u001b[0;34m.\u001b[0m\u001b[0mlegend\u001b[0m\u001b[0;34m(\u001b[0m\u001b[0;34m)\u001b[0m\u001b[0;34m\u001b[0m\u001b[0;34m\u001b[0m\u001b[0m\n",
            "\u001b[0;31mTypeError\u001b[0m: Gauss() missing 1 required positional argument: 'B'"
          ]
        }
      ]
    },
    {
      "cell_type": "markdown",
      "metadata": {
        "id": "fSw0kp-Dj-X-"
      },
      "source": [
        "Now that we have an idea of what a Gaussian fit looks like for this data, let's try it with a second order polynomial. Fill in the missing sections of the code."
      ]
    },
    {
      "cell_type": "code",
      "metadata": {
        "id": "gzcnPLmckUVi"
      },
      "source": [
        "#YOUR CODE HERE\n",
        "#First, define your Polynomial function\n",
        "\n",
        "parameters_P, covariance_P = optimize.curve_fit(poly_func, xdata, ydata)\n",
        "\n",
        "fit_poly = poly_func(xdata, *parameters_P)\n",
        "\n",
        "#YOUR CODE HERE\n",
        "#plot the data and the fit"
      ],
      "execution_count": null,
      "outputs": []
    },
    {
      "cell_type": "markdown",
      "metadata": {
        "id": "QW7jhxqpkEWi"
      },
      "source": [
        "Finally, let's try the fit with a cosine of the form \n",
        "\n",
        "$$\\alpha  \\cos(\\omega \\cdot x + \\phi) + \\beta$$"
      ]
    },
    {
      "cell_type": "code",
      "metadata": {
        "id": "wjGKNvjXkHBq"
      },
      "source": [
        "#YOUR CODE HERE"
      ],
      "execution_count": null,
      "outputs": []
    },
    {
      "cell_type": "markdown",
      "metadata": {
        "id": "0pNwiOIolOEg"
      },
      "source": [
        "This doesn't look right! To help the fitting function make a better fit, we can provide some guesses."
      ]
    },
    {
      "cell_type": "code",
      "metadata": {
        "id": "muC3w7l4lUto"
      },
      "source": [
        "guess = [16, 0.1, 0, 0]\n",
        "\n",
        "parameters, covariance = optimize.curve_fit(cos_func, xdata, ydata, p0=guess)\n",
        "\n",
        "fit_cosine = cos_func(xdata, *parameters)\n",
        "\n",
        "#YOUR CODE HERE\n",
        "#plot the new fit"
      ],
      "execution_count": null,
      "outputs": []
    },
    {
      "cell_type": "markdown",
      "metadata": {
        "id": "DD5wNBZ5lanr"
      },
      "source": [
        "**Step 4: Deciding Which Fit is Best**\n",
        "\n",
        "Which fit do you think is best? Why? (Note: This data is made up and there is no correct answer. We're more interested in your reasoning! Is there any additional information that could inform you?)\n",
        "\n",
        "Quantitatively, we can calculate the residual, or the mean-squared difference between our data and the fit. Based off of the residuals calculated below, which of the models fits best? \n",
        "\n",
        "Remember: All models are wrong but some may be useful!"
      ]
    },
    {
      "cell_type": "code",
      "metadata": {
        "id": "Kbxcp8ktlaTj",
        "colab": {
          "base_uri": "https://localhost:8080/",
          "height": 232
        },
        "outputId": "e7ca5acb-5c31-423b-c143-7a380e44b1f2"
      },
      "source": [
        "def residual(y, y_hat):\n",
        "  return ((y - y_hat)**2).mean()\n",
        "\n",
        "res_P = residual(ydata, fit_poly)\n",
        "res_G = residual(ydata, fit_y)\n",
        "res_C = residual(ydata, fit_cosine)\n",
        "\n",
        "\n",
        "print(f\"Res G:{res_G}, Res P:{res_P}, Res C:{res_C}\")"
      ],
      "execution_count": null,
      "outputs": [
        {
          "output_type": "error",
          "ename": "NameError",
          "evalue": "ignored",
          "traceback": [
            "\u001b[0;31m---------------------------------------------------------------------------\u001b[0m",
            "\u001b[0;31mNameError\u001b[0m                                 Traceback (most recent call last)",
            "\u001b[0;32m<ipython-input-8-7945ee684b7e>\u001b[0m in \u001b[0;36m<module>\u001b[0;34m()\u001b[0m\n\u001b[1;32m      2\u001b[0m   \u001b[0;32mreturn\u001b[0m \u001b[0;34m(\u001b[0m\u001b[0;34m(\u001b[0m\u001b[0my\u001b[0m \u001b[0;34m-\u001b[0m \u001b[0my_hat\u001b[0m\u001b[0;34m)\u001b[0m\u001b[0;34m**\u001b[0m\u001b[0;36m2\u001b[0m\u001b[0;34m)\u001b[0m\u001b[0;34m.\u001b[0m\u001b[0msum\u001b[0m\u001b[0;34m(\u001b[0m\u001b[0;34m)\u001b[0m\u001b[0;34m\u001b[0m\u001b[0;34m\u001b[0m\u001b[0m\n\u001b[1;32m      3\u001b[0m \u001b[0;34m\u001b[0m\u001b[0m\n\u001b[0;32m----> 4\u001b[0;31m \u001b[0mres_P\u001b[0m \u001b[0;34m=\u001b[0m \u001b[0mchi_sqr\u001b[0m\u001b[0;34m(\u001b[0m\u001b[0mydata\u001b[0m\u001b[0;34m,\u001b[0m \u001b[0mfit_poly\u001b[0m\u001b[0;34m)\u001b[0m\u001b[0;34m\u001b[0m\u001b[0;34m\u001b[0m\u001b[0m\n\u001b[0m\u001b[1;32m      5\u001b[0m \u001b[0mres_G\u001b[0m \u001b[0;34m=\u001b[0m \u001b[0mchi_sqr\u001b[0m\u001b[0;34m(\u001b[0m\u001b[0mydata\u001b[0m\u001b[0;34m,\u001b[0m \u001b[0mfit_y\u001b[0m\u001b[0;34m)\u001b[0m\u001b[0;34m\u001b[0m\u001b[0;34m\u001b[0m\u001b[0m\n\u001b[1;32m      6\u001b[0m \u001b[0mres_C\u001b[0m \u001b[0;34m=\u001b[0m \u001b[0mchi_sqr\u001b[0m\u001b[0;34m(\u001b[0m\u001b[0mydata\u001b[0m\u001b[0;34m,\u001b[0m \u001b[0mfit_cosine\u001b[0m\u001b[0;34m)\u001b[0m\u001b[0;34m\u001b[0m\u001b[0;34m\u001b[0m\u001b[0m\n",
            "\u001b[0;31mNameError\u001b[0m: name 'fit_poly' is not defined"
          ]
        }
      ]
    },
    {
      "cell_type": "markdown",
      "metadata": {
        "id": "g52yiTom0d7T"
      },
      "source": [
        "**Now, Try it on Your Own!**\n",
        "\n",
        "Below is a set of data that Professor Frano collected at the LCLS. The x data represents angle (theta) and the y data represents intensity. Try creating a fitting curve for this data! "
      ]
    },
    {
      "cell_type": "code",
      "metadata": {
        "id": "Ygv7CinW0_oP"
      },
      "source": [
        "xdata = [48.9999628, 49.0979628, 49.1999628, 49.3003195, 49.4013195, 49.5163195, 49.5999628, 49.7009628, 49.8273195, 49.9003195, 50.0023195, 50.0999628, 50.1989628, 50.3003195, 50.4003195, 50.5003195, 50.5999628, 50.7049628, 50.7979628, 50.9013195, 51.0223195, 51.1063195, 51.1959628, 51.3023195, 51.3983195, 51.5013195, 51.5999628, 51.6989628, 51.798606, 51.9003195, 52.0013195, 52.1003195, 52.2013195, 52.2999628, 52.4009628, 52.5009628, 52.5993195, 52.7003195, 52.8003195, 52.8993195, 53.0039628, 53.1029628, 53.2009628, 53.2989628, 53.4003195, 53.5003195, 53.6009628, 53.6979628, 53.8039628, 53.9013195, 54.0053195, 54.1009628, 54.1989628, 54.3043195, 54.4013195, 54.4999628, 54.5989628, 54.7009628, 54.7999628, 54.9063195, 55.0173195]\n",
        "ydata = [618, 598, 602, 553, 586, 540, 572, 559, 542, 550, 567, 556, 574, 567, 563, 610, 590, 633, 599, 600, 589, 726, 937, 1177, 5198, 13323, 13687, 17591, 17336, 19187, 18291, 18898, 17675, 11241, 7691, 1343, 1387, 721, 614, 499, 561, 470, 549, 538, 507, 493, 517, 445, 536, 528, 497, 507, 491, 463, 443, 491, 505, 459, 493, 445, 487]\n"
      ],
      "execution_count": null,
      "outputs": []
    },
    {
      "cell_type": "code",
      "metadata": {
        "id": "2_RKVWBvOzW_"
      },
      "source": [
        "#YOUR CODE HERE"
      ],
      "execution_count": null,
      "outputs": []
    },
    {
      "cell_type": "markdown",
      "metadata": {
        "id": "HNywx8Vvwp18"
      },
      "source": [
        "**Optional Material**\n",
        "\n",
        "When we are fitting data, we presume that our data roughly follows some sort of function, and our goal is to estimate the unknown parameters of that function. For example, if we suspect that our data follows a cosine wave, $A\\cos(\\omega t)$, we can estimate the unknown frequency ($\\omega$) and amplitude ($A$) of the wave.\n",
        "\n",
        "How do we get the estimates for $A$ and $\\omega$? By choosing the values of $A$ and $\\omega$ which make $A\\cos(\\omega t)$ as \"close\" to the data as possible. This implies that there is a \"closeness function\" which we need to minimize. One such function is called the $\\chi^2$ (read \"chi squared\") given by\n",
        "\n",
        "$$\\chi^2(\\theta_1,\\theta_2,...,\\theta_k) = \\sum_{i=1}^{N_{data}} \\frac{(f(t_i;\\theta_1,\\theta_2,...,\\theta_k)-O_i)^2}{f(t_i;\\theta_1,\\theta_2,...,\\theta_k)}$$\n",
        "\n",
        "Here, $t$ is the variable we presume our data depends on, $O_i$ is the observed value of the $i^{th}$ data point, $t_i$ is the value of dependent variable at the $i^{th}$ data point, $\\theta_1,...,\\theta_k$ are the unknown parameters that we wish to find, and $f(t;\\theta_1,...,\\theta_k)$ is the function that we assume our data should follow. The values of $\\theta$ which minimize chi-squared are our desired values, as they are the ones that make the function closest to the data."
      ]
    }
  ]
}