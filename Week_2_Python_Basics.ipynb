{
  "nbformat": 4,
  "nbformat_minor": 0,
  "metadata": {
    "colab": {
      "provenance": [],
      "include_colab_link": true
    },
    "kernelspec": {
      "name": "python3",
      "display_name": "Python 3"
    },
    "language_info": {
      "name": "python"
    }
  },
  "cells": [
    {
      "cell_type": "markdown",
      "metadata": {
        "id": "view-in-github",
        "colab_type": "text"
      },
      "source": [
        "<a href=\"https://colab.research.google.com/github/Shuyang19/physics/blob/main/Week_2_Python_Basics.ipynb\" target=\"_parent\"><img src=\"https://colab.research.google.com/assets/colab-badge.svg\" alt=\"Open In Colab\"/></a>"
      ]
    },
    {
      "cell_type": "markdown",
      "metadata": {
        "id": "3hfYEwRBJv28"
      },
      "source": [
        "#Week 2: Python Basics\n",
        "Welcome to our second python for physics session! Last week, we worked on familiarizing ourselves with some of the core structures of the language. Today, we'll try applying some of it! Remember to refer back to the Week 1 material if you can't figure something out. \n",
        "\n",
        "Another good source of information is the Python website (www.python.org). Good luck!\n",
        "\n"
      ]
    },
    {
      "cell_type": "markdown",
      "metadata": {
        "id": "h7UzatTdKwFq"
      },
      "source": [
        "**Exercise 1: While Loop:**\n",
        "\n",
        "Write a while loop that adds all the numbers up to 100 (inclusive)."
      ]
    },
    {
      "cell_type": "code",
      "metadata": {
        "id": "5hu8J4GPK1YX"
      },
      "source": [
        "counter=0\n",
        "total=0\n",
        "\n",
        "#YOUR CODE HERE\n",
        "\n",
        "print(total)"
      ],
      "execution_count": null,
      "outputs": []
    },
    {
      "cell_type": "markdown",
      "metadata": {
        "id": "hyN6BCM0KyM7"
      },
      "source": [
        "**Exersize 2: For Loops/List Comprehension**\n",
        "\n",
        "Let’s say I give you a list saved in a variable: years_of_birth = [1990, 1991, 1990, 1990, 1992, 1991]. Write some code Python that takes this list and makes a new list that contains the ages of people born in those years in 2014.\n",
        "\n",
        "\n"
      ]
    },
    {
      "cell_type": "code",
      "metadata": {
        "colab": {
          "base_uri": "https://localhost:8080/"
        },
        "id": "elHi09grK1rq",
        "outputId": "7ec010d1-9cef-4e2c-957d-b10bf6b287d8"
      },
      "source": [
        "years_of_birth = [1990, 1991, 1990, 1990, 1992, 1991]\n",
        "\n",
        "#YOUR CODE HERE\n",
        "\n",
        "print(ages)"
      ],
      "execution_count": null,
      "outputs": [
        {
          "output_type": "stream",
          "name": "stdout",
          "text": [
            "[24, 23, 24, 24, 22, 23]\n"
          ]
        }
      ]
    },
    {
      "cell_type": "markdown",
      "metadata": {
        "id": "OerEOiTLm-jR"
      },
      "source": [
        "Another way to do this is through list comprehension, a very neat tool that makes working with lists very easy."
      ]
    },
    {
      "cell_type": "code",
      "metadata": {
        "colab": {
          "base_uri": "https://localhost:8080/"
        },
        "id": "f8aaSUP1m-KJ",
        "outputId": "8c0a66b6-adfd-403a-fd7c-0025ca2a9c6d"
      },
      "source": [
        "years_of_birth = [1990, 1991, 1990, 1990, 1992, 1991]\n",
        "\n",
        "#YOUR CODE HERE\n",
        "\n",
        "print(ages)"
      ],
      "execution_count": null,
      "outputs": [
        {
          "output_type": "stream",
          "name": "stdout",
          "text": [
            "[24, 23, 24, 24, 22, 23]\n"
          ]
        }
      ]
    },
    {
      "cell_type": "markdown",
      "metadata": {
        "id": "XnFbOl0-Krkc"
      },
      "source": [
        "**Exercise 3: Conditionals**\n",
        "\n",
        "treepersqkm is a dictionary showing the tree number of countries per square kilometer for random countries with sizeable population numbers. Write a function named \"moretrees\" that returns a list of country names with more than 20.000 trees per square kilometer.\n",
        "\n"
      ]
    },
    {
      "cell_type": "code",
      "metadata": {
        "id": "B5SpSnBIJq2E",
        "colab": {
          "base_uri": "https://localhost:8080/"
        },
        "outputId": "fc3ee36c-502f-43f6-9c7f-bee314056a96"
      },
      "source": [
        "treepersqkm = {\"Finland\": 90652, \"Taiwan\": 69593, \"Japan\": 49894, \"Russia\": 41396, \"Brazil\": 39542, \"Canada\": 36388, \"Bulgaria\": 24987, \"France\": 24436, \"Greece\": 24323, \"United States\": 23513, \"Turkey\": 11126, \"India\": 11109, \"Denmark\": 6129, \"Syria\": 534, \"Saudi Arabia\": 1}\n",
        "\n",
        "def moretrees(dict):\n",
        "    #YOUR CODE HERE\n",
        "    return ??\n",
        "\n",
        "print(moretrees(treepersqkm))"
      ],
      "execution_count": null,
      "outputs": [
        {
          "output_type": "stream",
          "name": "stdout",
          "text": [
            "['Finland', 'Taiwan', 'Japan', 'Russia', 'Brazil', 'Canada', 'Bulgaria', 'France', 'Greece', 'United States']\n"
          ]
        }
      ]
    },
    {
      "cell_type": "markdown",
      "metadata": {
        "id": "uJ5pWq9hTxhd"
      },
      "source": [
        "**Exercise 4: Arrays**\n",
        "\n",
        "Another way of organizing multiple values is in an array. In order to use arrays, the NumPy library needs to be imported. After looking at the example below, create an array with your top five favorite numbers (in order of favoritism). Use indexing to call for your second lucky number. Try sorting your array into numerical order using np.sort()."
      ]
    },
    {
      "cell_type": "code",
      "metadata": {
        "id": "pUZemW9pTxDd"
      },
      "source": [
        "import numpy as np\n",
        "\n",
        "even = np.array([2, 4, 6, 8])\n",
        "\n",
        "print(even)\n",
        "\n",
        "even[2]\n",
        "\n",
        "#YOUR CODE HERE\n"
      ],
      "execution_count": null,
      "outputs": []
    },
    {
      "cell_type": "markdown",
      "metadata": {
        "id": "VO40yhJxl1Qs"
      },
      "source": [
        "**Exercise 5: Linspace**\n",
        "\n",
        "Another way to create an array is using the command np.linspace(). Look up the documentation and create an array that contains 10 evenly spaced points from 20 to 30."
      ]
    },
    {
      "cell_type": "code",
      "metadata": {
        "id": "oidytPuFl0wx"
      },
      "source": [
        "import numpy as np\n",
        "\n",
        "#YOUR CODE HERE"
      ],
      "execution_count": null,
      "outputs": []
    },
    {
      "cell_type": "markdown",
      "metadata": {
        "id": "MerL-LuQmif2"
      },
      "source": [
        "**Sources**\n",
        "\n",
        "\n",
        "*   https://www.practicepython.org/exercise/2014/03/19/07-list-comprehensions.html\n",
        "*   https://holypython.com/intermediate-python-exercises/exercise-7-conditional-statements/\n",
        "*   https://numpy.org/doc/stable/user/absolute_beginners.html\n",
        "\n"
      ]
    }
  ]
}